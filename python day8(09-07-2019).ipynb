{
 "cells": [
  {
   "cell_type": "code",
   "execution_count": 4,
   "metadata": {},
   "outputs": [
    {
     "name": "stdout",
     "output_type": "stream",
     "text": [
      "[1, 8, 16, 9, 2]\n",
      "1\n",
      "8\n",
      "2\n",
      "9\n",
      "[8, 16, 9, 2]\n",
      "[8, 16, 9]\n"
     ]
    }
   ],
   "source": [
    "lst=[1,8,16,9,2]#creating the list object in python\n",
    "print(lst)#access the entire list\n",
    "print(lst[0])#access the first item in the list\n",
    "print(lst[1])#access the second item in the last\n",
    "print(lst[-1])#access the last item\n",
    "print(lst[-2])\n",
    "print(lst[1:])\n",
    "print(lst[1:4])"
   ]
  },
  {
   "cell_type": "code",
   "execution_count": 3,
   "metadata": {},
   "outputs": [
    {
     "name": "stdout",
     "output_type": "stream",
     "text": [
      "['gitam', 'python', 1989, 2002]\n",
      "['gitam', 'python', 2019, 2002]\n"
     ]
    }
   ],
   "source": [
    "li=[\"gitam\",\"python\",1989,2002]\n",
    "print(li)\n",
    "li[2]=2019\n",
    "print(li)"
   ]
  },
  {
   "cell_type": "code",
   "execution_count": 5,
   "metadata": {},
   "outputs": [
    {
     "name": "stdout",
     "output_type": "stream",
     "text": [
      "['gitam', 'python', 2019, 2002]\n",
      "['gitam', 'python', 2002]\n"
     ]
    }
   ],
   "source": [
    "#delete the specific item in the last\n",
    "print(li)\n",
    "del li[2]\n",
    "print(li)"
   ]
  },
  {
   "cell_type": "code",
   "execution_count": 5,
   "metadata": {},
   "outputs": [
    {
     "name": "stdout",
     "output_type": "stream",
     "text": [
      "5\n",
      "[1, 9, 6, 18, 2, 1, 9, 6, 18, 2]\n",
      "5\n",
      "True\n",
      "False\n",
      "1 9 6 18 2 "
     ]
    }
   ],
   "source": [
    "#basic list operations\n",
    "lst1=[1,9,6,18,2]\n",
    "print(len(lst1))#length of the list\n",
    "print(lst1*2)#repeation\n",
    "print(len(lst1))\n",
    "print(9 in lst1)#list item is present or not\n",
    "print(15 in lst1)\n",
    "#access the list items using iteration\n",
    "for x in range(len(lst1)):\n",
    "    print(lst1[x],end=' ')"
   ]
  },
  {
   "cell_type": "code",
   "execution_count": 6,
   "metadata": {},
   "outputs": [
    {
     "name": "stdout",
     "output_type": "stream",
     "text": [
      "1\n",
      "18\n",
      "36\n",
      "7\n",
      "17.5\n"
     ]
    }
   ],
   "source": [
    "#function of the list\n",
    "lst1\n",
    "print(min(lst1))#min item/element of the list\n",
    "print(max(lst1))#max element of the list\n",
    "print(sum(lst1))#sum of the all elements of the list\n",
    "print(sum(lst1)//len(lst1))#average of list elements\n",
    "print(sum(lst1[1::])/len(lst1[1::2]))#average of all elements"
   ]
  },
  {
   "cell_type": "code",
   "execution_count": 14,
   "metadata": {},
   "outputs": [
    {
     "name": "stdout",
     "output_type": "stream",
     "text": [
      "[45, 23, 45, 45, 45, 45, 45, 24, 24, 24, 24, 24, 24, 23, 23, 23, 1]\n"
     ]
    }
   ],
   "source": [
    "lst1\n",
    "lst1.append(24) #adding a new elemnet at the end of the list\n",
    "lst1\n",
    "lst1.insert(2,56) #adding an element at particular index\n",
    "lst1\n",
    "lst1.count(18) #return the value how many times the object repeated\n",
    "lst1.index(56)\n",
    "lst1.sort() #it sorts the list in ascending order\n",
    "lst1\n",
    "lst1\n",
    "lst1.pop() #remove the last element from the list\n",
    "lst1\n",
    "lst1.pop(1)\n",
    "lst2=[123,23,45]\n",
    "lst1.extend(lst2) #merge the list2 into list1\n",
    "lst1.reverse() #reverse the list\n",
    "lst1.remove(123)\n",
    "print(lst1)"
   ]
  },
  {
   "cell_type": "code",
   "execution_count": 15,
   "metadata": {},
   "outputs": [
    {
     "name": "stdout",
     "output_type": "stream",
     "text": [
      "[3, 2]\n"
     ]
    }
   ],
   "source": [
    "li=[1,9,8,2,6,3]\n",
    "print(li[-1:2:-2])"
   ]
  },
  {
   "cell_type": "code",
   "execution_count": 13,
   "metadata": {},
   "outputs": [
    {
     "data": {
      "text/plain": [
       "18"
      ]
     },
     "execution_count": 13,
     "metadata": {},
     "output_type": "execute_result"
    }
   ],
   "source": [
    "def secondlarge(li):\n",
    "    li.sort()\n",
    "    return li[-2]\n",
    "li=[1,19,6,2,8,18,3]\n",
    "secondlarge(li)"
   ]
  },
  {
   "cell_type": "code",
   "execution_count": 16,
   "metadata": {},
   "outputs": [
    {
     "data": {
      "text/plain": [
       "6"
      ]
     },
     "execution_count": 16,
     "metadata": {},
     "output_type": "execute_result"
    }
   ],
   "source": [
    "def secondlarge(li):\n",
    "    li.sort()\n",
    "    return li[-2]\n",
    "def genericlarge(li,n):\n",
    "    li.sort()\n",
    "    return li[-n]\n",
    "li=[1,19,6,2,8,18,3]\n",
    "genericlarge(li,4)"
   ]
  },
  {
   "cell_type": "code",
   "execution_count": 22,
   "metadata": {},
   "outputs": [
    {
     "data": {
      "text/plain": [
       "2"
      ]
     },
     "execution_count": 22,
     "metadata": {},
     "output_type": "execute_result"
    }
   ],
   "source": [
    "#function to find the least item from the list\n",
    "def secondleast(li):\n",
    "    li.sort()\n",
    "    return li[1]\n",
    "def genericleast(li,n):\n",
    "    li.sort()\n",
    "    return li[n-1]\n",
    "li=[1,19,6,2,8,18,3]\n",
    "secondleast(li)"
   ]
  },
  {
   "cell_type": "code",
   "execution_count": 26,
   "metadata": {},
   "outputs": [
    {
     "name": "stdout",
     "output_type": "stream",
     "text": [
      "1 9 19 22 "
     ]
    }
   ],
   "source": [
    "def linearsearch6(li):\n",
    "    for x in range(len(li)):\n",
    "        if x==0 or x==len(li)-1:\n",
    "            print(li[x],end=\" \")\n",
    "        elif li[x-1]%2==0 and li[x+1]%2==0:\n",
    "                print(li[x],end=\" \")\n",
    "    return\n",
    "li=[1,6,9,4,16,19,22]\n",
    "linearsearch6(li)"
   ]
  },
  {
   "cell_type": "code",
   "execution_count": 28,
   "metadata": {},
   "outputs": [
    {
     "data": {
      "text/plain": [
       "[4, 5, 2, 6, 6, 5, 7, 6]"
      ]
     },
     "execution_count": 28,
     "metadata": {},
     "output_type": "execute_result"
    }
   ],
   "source": [
    "def numberlistconversion(n):\n",
    "    li=[]\n",
    "    while n!=0:\n",
    "        r=n%10\n",
    "        li.append(r)\n",
    "        n=n//10\n",
    "    li.reverse()\n",
    "    return li\n",
    "numberlistconversion(45266576)"
   ]
  },
  {
   "cell_type": "code",
   "execution_count": 35,
   "metadata": {},
   "outputs": [
    {
     "data": {
      "text/plain": [
       "1"
      ]
     },
     "execution_count": 35,
     "metadata": {},
     "output_type": "execute_result"
    }
   ],
   "source": [
    "def countcharoccurances(s,c):\n",
    "    cnt=0\n",
    "    for ch in s:\n",
    "        if ch==c:\n",
    "            cnt +=1\n",
    "    return cnt\n",
    "def countcharoccurances(s,c):\n",
    "    return s.count(c)\n",
    "countcharoccurances(\"python programming\",'t')"
   ]
  },
  {
   "cell_type": "markdown",
   "metadata": {},
   "source": [
    "### String to list conversion\n",
    "* Input will be string\n",
    "* Expected output will be list"
   ]
  },
  {
   "cell_type": "code",
   "execution_count": 36,
   "metadata": {},
   "outputs": [
    {
     "data": {
      "text/plain": [
       "[1, 2, 3, 4, 5]"
      ]
     },
     "execution_count": 36,
     "metadata": {},
     "output_type": "execute_result"
    }
   ],
   "source": [
    "def stringtolistconversion(s):\n",
    "    li=s.split()\n",
    "    numberlist=[]\n",
    "    for i in li:\n",
    "        numberlist.append(int(i))t\n",
    "    return numberlist\n",
    "s=\"1 2 3 4 5\"\n",
    "stringtolistconversion(s)"
   ]
  },
  {
   "cell_type": "markdown",
   "metadata": {},
   "source": [
    "### Sorting algorithms\n",
    "* Bubble sort\n",
    "* selection sort\n",
    "* Insertion sort"
   ]
  },
  {
   "cell_type": "code",
   "execution_count": 37,
   "metadata": {},
   "outputs": [
    {
     "data": {
      "text/plain": [
       "[1, 3, 7, 8, 9, 18, 45, 76]"
      ]
     },
     "execution_count": 37,
     "metadata": {},
     "output_type": "execute_result"
    }
   ],
   "source": [
    "def bubblesort(li):\n",
    "    for i in range(len(li)-1):\n",
    "        for j in range(len(li)-1):\n",
    "            if li[j]>li[j+1]:\n",
    "                li[j],li[j+1]=li[j+1],li[j]\n",
    "    return li\n",
    "li=[18,76,7,1,45,3,8,9]\n",
    "bubblesort(li)"
   ]
  },
  {
   "cell_type": "code",
   "execution_count": null,
   "metadata": {},
   "outputs": [],
   "source": []
  }
 ],
 "metadata": {
  "kernelspec": {
   "display_name": "Python 3",
   "language": "python",
   "name": "python3"
  },
  "language_info": {
   "codemirror_mode": {
    "name": "ipython",
    "version": 3
   },
   "file_extension": ".py",
   "mimetype": "text/x-python",
   "name": "python",
   "nbconvert_exporter": "python",
   "pygments_lexer": "ipython3",
   "version": "3.7.3"
  }
 },
 "nbformat": 4,
 "nbformat_minor": 2
}
