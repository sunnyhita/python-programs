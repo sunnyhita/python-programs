{
 "cells": [
  {
   "cell_type": "markdown",
   "metadata": {},
   "source": [
    "### Standard libraries\n",
    "* File I/O\n",
    "* Regular expression\n",
    "* Datetime\n",
    "* Math(numerical and mathematical)"
   ]
  },
  {
   "cell_type": "markdown",
   "metadata": {},
   "source": [
    "### File Handling in Python\n",
    "* File:- Document containing information resides on the permanent storage\n",
    "* Different types of files:- txt,doc,pdf,csv and etc...\n",
    "* Input--Keyboard\n",
    "* Output--File\n",
    "### Modules of the File I/O\n",
    "* 'w'--This mode is used to file writing\n",
    "      --If the file is not present it creates the file and write the data into it"
   ]
  },
  {
   "cell_type": "code",
   "execution_count": 1,
   "metadata": {},
   "outputs": [
    {
     "name": "stdout",
     "output_type": "stream",
     "text": [
      "File is created and data is written\n"
     ]
    }
   ],
   "source": [
    "#Function to create a file and write to the file\n",
    "def createfile(filename):\n",
    "    f=open(filename,'w')\n",
    "    for i in range(10):\n",
    "        f.write('This is %d line '%i)\n",
    "    print(\"File is created and data is written\")\n",
    "    return\n",
    "createfile('file1.txt')"
   ]
  },
  {
   "cell_type": "code",
   "execution_count": 2,
   "metadata": {},
   "outputs": [
    {
     "name": "stdout",
     "output_type": "stream",
     "text": [
      " Volume in drive C has no label.\n",
      " Volume Serial Number is F812-12DD\n",
      "\n",
      " Directory of C:\\Users\\201\n",
      "\n",
      "11-07-2019  15:08    <DIR>          .\n",
      "11-07-2019  15:08    <DIR>          ..\n",
      "08-05-2019  11:00    <DIR>          .anaconda\n",
      "14-03-2017  11:00               145 .appletviewer\n",
      "21-05-2019  15:10               606 .bash_history\n",
      "02-11-2017  15:45                 0 .cdtclient\n",
      "09-05-2019  15:54    <DIR>          .conda\n",
      "08-07-2019  14:55                43 .condarc\n",
      "21-05-2019  11:57                61 .gitconfig\n",
      "11-07-2019  14:53    <DIR>          .ipynb_checkpoints\n",
      "08-05-2019  11:01    <DIR>          .ipython\n",
      "09-05-2019  11:42    <DIR>          .jupyter\n",
      "13-12-2016  10:32    <DIR>          .oracle_jre_usage\n",
      "13-05-2019  14:38    <DIR>          .spyder-py3\n",
      "27-06-2019  22:33             5,241 27 june 2019.ipynb\n",
      "09-05-2019  09:54    <DIR>          Anaconda3\n",
      "10-07-2019  22:40             6,999 Assignment.ipynb\n",
      "08-05-2019  14:07    <DIR>          Contacts\n",
      "10-07-2019  22:17            15,192 day9(10-07-19).ipynb\n",
      "06-07-2019  21:47    <DIR>          Desktop\n",
      "12-05-2019  12:18    <DIR>          Documents\n",
      "10-07-2019  22:39    <DIR>          Downloads\n",
      "08-05-2019  14:07    <DIR>          Favorites\n",
      "11-07-2019  15:07               150 file1.txt\n",
      "06-04-2017  11:06    <DIR>          kiran\n",
      "08-05-2019  14:07    <DIR>          Links\n",
      "08-05-2019  14:07    <DIR>          Music\n",
      "08-05-2019  14:07    <DIR>          Pictures\n",
      "13-05-2019  14:32    <DIR>          pp\n",
      "08-07-2019  21:05             9,970 python day7(8th july).ipynb\n",
      "09-07-2019  21:29             9,141 python day8(09-07-2019).ipynb\n",
      "11-07-2019  15:08             1,830 Python day9(11-07-2019).ipynb\n",
      "08-05-2019  14:07    <DIR>          Saved Games\n",
      "08-05-2019  14:07    <DIR>          Searches\n",
      "18-05-2019  13:52    <DIR>          sreemanth\n",
      "15-05-2019  12:21               156 test.py\n",
      "15-05-2019  12:24                30 test2.py\n",
      "09-05-2019  16:23    <DIR>          Untitled Folder\n",
      "08-05-2019  14:07    <DIR>          Videos\n",
      "26-09-2018  15:56    <DIR>          workspace\n",
      "              14 File(s)         49,564 bytes\n",
      "              26 Dir(s)  72,037,380,096 bytes free\n"
     ]
    }
   ],
   "source": [
    "ls"
   ]
  },
  {
   "cell_type": "code",
   "execution_count": 4,
   "metadata": {},
   "outputs": [
    {
     "ename": "SyntaxError",
     "evalue": "invalid syntax (<ipython-input-4-0bccb725251b>, line 1)",
     "output_type": "error",
     "traceback": [
      "\u001b[1;36m  File \u001b[1;32m\"<ipython-input-4-0bccb725251b>\"\u001b[1;36m, line \u001b[1;32m1\u001b[0m\n\u001b[1;33m    cat file1.txt\u001b[0m\n\u001b[1;37m            ^\u001b[0m\n\u001b[1;31mSyntaxError\u001b[0m\u001b[1;31m:\u001b[0m invalid syntax\n"
     ]
    }
   ],
   "source": [
    "cat file1.txt"
   ]
  },
  {
   "cell_type": "code",
   "execution_count": 5,
   "metadata": {},
   "outputs": [
    {
     "name": "stdout",
     "output_type": "stream",
     "text": [
      "File is created and data is written\n"
     ]
    }
   ],
   "source": [
    "def createfile(filename):\n",
    "    f=open(filename,'w')\n",
    "    f.write('Testing...\\n')\n",
    "    print(\"File is created and data is written\")\n",
    "    return\n",
    "createfile('file1.txt')"
   ]
  },
  {
   "cell_type": "code",
   "execution_count": 7,
   "metadata": {},
   "outputs": [
    {
     "name": "stdout",
     "output_type": "stream",
     "text": [
      "File is created and data is written\n"
     ]
    }
   ],
   "source": [
    "def appenddata(filename):\n",
    "    f=open(filename,'a')\n",
    "    for i in range(10):\n",
    "        f.write(\"This is %d line\\n\"%i)\n",
    "    print(\"File is created and data is written\")\n",
    "    return\n",
    "appenddata('file2.txt')"
   ]
  },
  {
   "cell_type": "code",
   "execution_count": 8,
   "metadata": {},
   "outputs": [
    {
     "name": "stdout",
     "output_type": "stream",
     "text": [
      "File is created and data is written\n"
     ]
    }
   ],
   "source": [
    "def appenddata(filename):\n",
    "    f=open(filename,'a')\n",
    "    f.write(\"New Line1\\n\")\n",
    "    f.write(\"New Line2\\n\")\n",
    "    print(\"File is created and data is written\")\n",
    "    f.close()\n",
    "    return\n",
    "appenddata('file2.txt')"
   ]
  },
  {
   "cell_type": "code",
   "execution_count": 1,
   "metadata": {},
   "outputs": [
    {
     "name": "stdout",
     "output_type": "stream",
     "text": [
      "This is 0 line\n",
      "This is 1 line\n",
      "This is 2 line\n",
      "This is 3 line\n",
      "This is 4 line\n",
      "This is 5 line\n",
      "This is 6 line\n",
      "This is 7 line\n",
      "This is 8 line\n",
      "This is 9 line\n",
      "New Line1\n",
      "New Line2\n",
      "\n"
     ]
    }
   ],
   "source": [
    "#Function to read the file\n",
    "def readfiledata(filename):\n",
    "    f=open(filename,'r')\n",
    "    if f.mode=='r':\n",
    "        x=f.read()\n",
    "        print(x)\n",
    "    f.close()\n",
    "    return\n",
    "readfiledata('file2.txt')"
   ]
  },
  {
   "cell_type": "code",
   "execution_count": 2,
   "metadata": {},
   "outputs": [
    {
     "name": "stdout",
     "output_type": "stream",
     "text": [
      "enter the filenamefile2.txt\n",
      "enter the mode of the filer\n",
      "This is 0 line\n",
      "This is 1 line\n",
      "This is 2 line\n",
      "This is 3 line\n",
      "This is 4 line\n",
      "This is 5 line\n",
      "This is 6 line\n",
      "This is 7 line\n",
      "This is 8 line\n",
      "This is 9 line\n",
      "New Line1\n",
      "New Line2\n",
      "\n"
     ]
    }
   ],
   "source": [
    "#Function to read the file\n",
    "def fileoperations(filename,mode):\n",
    "    with open(filename,mode) as f:\n",
    "        if f.mode=='r':\n",
    "            data=f.read()\n",
    "            print(data)\n",
    "        elif f.mode=='a':\n",
    "            f.write('Data to the file\\n.')\n",
    "            print('The data successfully written')\n",
    "    f.close()\n",
    "    return\n",
    "filename=input('enter the filename')\n",
    "mode=input('enter the mode of the file')\n",
    "fileoperations(filename,mode)"
   ]
  },
  {
   "cell_type": "code",
   "execution_count": 7,
   "metadata": {},
   "outputs": [
    {
     "name": "stdout",
     "output_type": "stream",
     "text": [
      "Enter the filename:file2.txt\n",
      "enter the word:This\n"
     ]
    },
    {
     "data": {
      "text/plain": [
       "10"
      ]
     },
     "execution_count": 7,
     "metadata": {},
     "output_type": "execute_result"
    }
   ],
   "source": [
    "#Data Analysis\n",
    "#Word count program\n",
    "def wordcount(filename,word):\n",
    "    with open(filename,'r') as f:\n",
    "        if f.mode=='r':\n",
    "            x=f.read()\n",
    "            li=x.split()#It splits the string with whitespace\n",
    "    cnt=li.count(word)\n",
    "    return cnt\n",
    "filename=input('Enter the filename:')\n",
    "word=input('enter the word:')#which word count you need\n",
    "wordcount(filename,word)"
   ]
  },
  {
   "cell_type": "code",
   "execution_count": 3,
   "metadata": {},
   "outputs": [
    {
     "name": "stdout",
     "output_type": "stream",
     "text": [
      "Enter the filename:file2.txt\n"
     ]
    },
    {
     "data": {
      "text/plain": [
       "170"
      ]
     },
     "execution_count": 3,
     "metadata": {},
     "output_type": "execute_result"
    }
   ],
   "source": [
    "#character count from the given file\n",
    "def charcount(filename):\n",
    "    with open(filename,'r') as f:\n",
    "        if f.mode=='r':\n",
    "            x=f.read()\n",
    "            li=list(x)\n",
    "    return len(li)\n",
    "filename=input('Enter the filename:')\n",
    "charcount(filename)"
   ]
  },
  {
   "cell_type": "code",
   "execution_count": 4,
   "metadata": {},
   "outputs": [
    {
     "name": "stdout",
     "output_type": "stream",
     "text": [
      "Enter the filename:file2.txt\n"
     ]
    },
    {
     "data": {
      "text/plain": [
       "13"
      ]
     },
     "execution_count": 4,
     "metadata": {},
     "output_type": "execute_result"
    }
   ],
   "source": [
    "#Function to find the number of lines in the input file\n",
    "def countoflines(filename):\n",
    "    with open(filename,'r') as f:\n",
    "        if f.mode=='r':\n",
    "            x=f.read()\n",
    "            li=x.split(\"\\n\")\n",
    "    return len(li)\n",
    "filename=input('Enter the filename:')\n",
    "countoflines(filename)"
   ]
  },
  {
   "cell_type": "code",
   "execution_count": 13,
   "metadata": {},
   "outputs": [
    {
     "name": "stdout",
     "output_type": "stream",
     "text": [
      "Enter the filename: file2.txt\n"
     ]
    },
    {
     "data": {
      "text/plain": [
       "'upper case=14,lower case=100'"
      ]
     },
     "execution_count": 13,
     "metadata": {},
     "output_type": "execute_result"
    }
   ],
   "source": [
    "#Function to print the upper and lower characters\n",
    "def casecount(filename):\n",
    "    cntlower=0\n",
    "    cntupper=0\n",
    "    with open(filename,'r') as f:\n",
    "        if f.mode=='r':\n",
    "            x=f.read()\n",
    "            li=list(x)\n",
    "    for i in li:\n",
    "        if i.isupper():\n",
    "            cntupper+=1 #cntupper=cntupper+1\n",
    "        elif i.islower():\n",
    "            cntlower+=1 #cntupper=cntupper+1\n",
    "    output='upper case={0},lower case={1}'.format(cntupper,cntlower)\n",
    "    return output\n",
    "filename=input('Enter the filename: ')\n",
    "casecount(filename)"
   ]
  },
  {
   "cell_type": "markdown",
   "metadata": {},
   "source": [
    "### math,random,os\n",
    "* package it contains the certain methods which works with OS"
   ]
  },
  {
   "cell_type": "code",
   "execution_count": 14,
   "metadata": {},
   "outputs": [
    {
     "name": "stdout",
     "output_type": "stream",
     "text": [
      " Volume in drive C has no label.\n",
      " Volume Serial Number is F812-12DD\n",
      "\n",
      " Directory of C:\\Users\\201\n",
      "\n",
      "11-07-2019  18:06    <DIR>          .\n",
      "11-07-2019  18:06    <DIR>          ..\n",
      "08-05-2019  11:00    <DIR>          .anaconda\n",
      "14-03-2017  11:00               145 .appletviewer\n",
      "21-05-2019  15:10               606 .bash_history\n",
      "02-11-2017  15:45                 0 .cdtclient\n",
      "09-05-2019  15:54    <DIR>          .conda\n",
      "08-07-2019  14:55                43 .condarc\n",
      "21-05-2019  11:57                61 .gitconfig\n",
      "11-07-2019  14:53    <DIR>          .ipynb_checkpoints\n",
      "08-05-2019  11:01    <DIR>          .ipython\n",
      "09-05-2019  11:42    <DIR>          .jupyter\n",
      "13-12-2016  10:32    <DIR>          .oracle_jre_usage\n",
      "13-05-2019  14:38    <DIR>          .spyder-py3\n",
      "27-06-2019  22:33             5,241 27 june 2019.ipynb\n",
      "09-05-2019  09:54    <DIR>          Anaconda3\n",
      "10-07-2019  22:40             6,999 Assignment.ipynb\n",
      "08-05-2019  14:07    <DIR>          Contacts\n",
      "10-07-2019  22:17            15,192 day9(10-07-19).ipynb\n",
      "06-07-2019  21:47    <DIR>          Desktop\n",
      "12-05-2019  12:18    <DIR>          Documents\n",
      "10-07-2019  22:39    <DIR>          Downloads\n",
      "08-05-2019  14:07    <DIR>          Favorites\n",
      "11-07-2019  15:32                12 file1.txt\n",
      "11-07-2019  15:41               182 file2.txt\n",
      "11-07-2019  15:57                 0 File3\n",
      "06-04-2017  11:06    <DIR>          kiran\n",
      "08-05-2019  14:07    <DIR>          Links\n",
      "08-05-2019  14:07    <DIR>          Music\n",
      "08-05-2019  14:07    <DIR>          Pictures\n",
      "13-05-2019  14:32    <DIR>          pp\n",
      "08-07-2019  21:05             9,970 python day7(8th july).ipynb\n",
      "09-07-2019  21:29             9,141 python day8(09-07-2019).ipynb\n",
      "11-07-2019  18:06            12,382 Python day9(11-07-2019).ipynb\n",
      "08-05-2019  14:07    <DIR>          Saved Games\n",
      "08-05-2019  14:07    <DIR>          Searches\n",
      "18-05-2019  13:52    <DIR>          sreemanth\n",
      "15-05-2019  12:21               156 test.py\n",
      "15-05-2019  12:24                30 test2.py\n",
      "09-05-2019  16:23    <DIR>          Untitled Folder\n",
      "08-05-2019  14:07    <DIR>          Videos\n",
      "26-09-2018  15:56    <DIR>          workspace\n",
      "              16 File(s)         60,160 bytes\n",
      "              26 Dir(s)  72,059,330,560 bytes free\n"
     ]
    }
   ],
   "source": [
    "ls"
   ]
  },
  {
   "cell_type": "code",
   "execution_count": 26,
   "metadata": {},
   "outputs": [
    {
     "name": "stdout",
     "output_type": "stream",
     "text": [
      "C:\\Users\\201\n"
     ]
    }
   ],
   "source": [
    "cd ."
   ]
  },
  {
   "cell_type": "code",
   "execution_count": 27,
   "metadata": {},
   "outputs": [
    {
     "data": {
      "text/plain": [
       "'C:\\\\Users\\\\201'"
      ]
     },
     "execution_count": 27,
     "metadata": {},
     "output_type": "execute_result"
    }
   ],
   "source": [
    "pwd"
   ]
  },
  {
   "cell_type": "markdown",
   "metadata": {},
   "source": [
    "### Creating a Single Directory"
   ]
  },
  {
   "cell_type": "code",
   "execution_count": 31,
   "metadata": {},
   "outputs": [
    {
     "ename": "FileExistsError",
     "evalue": "[WinError 183] Cannot create a file when that file already exists: 'SingleDirectory'",
     "output_type": "error",
     "traceback": [
      "\u001b[1;31m---------------------------------------------------------------------------\u001b[0m",
      "\u001b[1;31mFileExistsError\u001b[0m                           Traceback (most recent call last)",
      "\u001b[1;32m<ipython-input-31-74cba89addaa>\u001b[0m in \u001b[0;36m<module>\u001b[1;34m\u001b[0m\n\u001b[0;32m      1\u001b[0m \u001b[1;32mimport\u001b[0m \u001b[0mos\u001b[0m\u001b[1;33m\u001b[0m\u001b[1;33m\u001b[0m\u001b[0m\n\u001b[1;32m----> 2\u001b[1;33m \u001b[0mos\u001b[0m\u001b[1;33m.\u001b[0m\u001b[0mmkdir\u001b[0m\u001b[1;33m(\u001b[0m\u001b[1;34m'SingleDirectory'\u001b[0m\u001b[1;33m)\u001b[0m\u001b[1;33m\u001b[0m\u001b[1;33m\u001b[0m\u001b[0m\n\u001b[0m",
      "\u001b[1;31mFileExistsError\u001b[0m: [WinError 183] Cannot create a file when that file already exists: 'SingleDirectory'"
     ]
    }
   ],
   "source": [
    "import os\n",
    "os.mkdir('SingleDirectory')"
   ]
  },
  {
   "cell_type": "code",
   "execution_count": 30,
   "metadata": {},
   "outputs": [],
   "source": [
    "import pathlib\n",
    "p=pathlib.Path('Test folder')\n",
    "p.mkdir()"
   ]
  },
  {
   "cell_type": "code",
   "execution_count": 32,
   "metadata": {},
   "outputs": [
    {
     "name": "stdout",
     "output_type": "stream",
     "text": [
      " Volume in drive C has no label.\n",
      " Volume Serial Number is F812-12DD\n",
      "\n",
      " Directory of C:\\Users\\201\n",
      "\n",
      "11-07-2019  20:26    <DIR>          .\n",
      "11-07-2019  20:26    <DIR>          ..\n",
      "08-05-2019  11:00    <DIR>          .anaconda\n",
      "14-03-2017  11:00               145 .appletviewer\n",
      "21-05-2019  15:10               606 .bash_history\n",
      "02-11-2017  15:45                 0 .cdtclient\n",
      "09-05-2019  15:54    <DIR>          .conda\n",
      "08-07-2019  14:55                43 .condarc\n",
      "21-05-2019  11:57                61 .gitconfig\n",
      "11-07-2019  14:53    <DIR>          .ipynb_checkpoints\n",
      "08-05-2019  11:01    <DIR>          .ipython\n",
      "09-05-2019  11:42    <DIR>          .jupyter\n",
      "13-12-2016  10:32    <DIR>          .oracle_jre_usage\n",
      "13-05-2019  14:38    <DIR>          .spyder-py3\n",
      "27-06-2019  22:33             5,241 27 june 2019.ipynb\n",
      "09-05-2019  09:54    <DIR>          Anaconda3\n",
      "10-07-2019  22:40             6,999 Assignment.ipynb\n",
      "08-05-2019  14:07    <DIR>          Contacts\n",
      "10-07-2019  22:17            15,192 day9(10-07-19).ipynb\n",
      "06-07-2019  21:47    <DIR>          Desktop\n",
      "12-05-2019  12:18    <DIR>          Documents\n",
      "10-07-2019  22:39    <DIR>          Downloads\n",
      "08-05-2019  14:07    <DIR>          Favorites\n",
      "11-07-2019  15:32                12 file1.txt\n",
      "11-07-2019  15:41               182 file2.txt\n",
      "11-07-2019  15:57                 0 File3\n",
      "06-04-2017  11:06    <DIR>          kiran\n",
      "08-05-2019  14:07    <DIR>          Links\n",
      "08-05-2019  14:07    <DIR>          Music\n",
      "08-05-2019  14:07    <DIR>          Pictures\n",
      "13-05-2019  14:32    <DIR>          pp\n",
      "08-07-2019  21:05             9,970 python day7(8th july).ipynb\n",
      "09-07-2019  21:29             9,141 python day8(09-07-2019).ipynb\n",
      "11-07-2019  20:26            16,343 Python day9(11-07-2019).ipynb\n",
      "08-05-2019  14:07    <DIR>          Saved Games\n",
      "08-05-2019  14:07    <DIR>          Searches\n",
      "11-07-2019  20:23    <DIR>          SingleDirectory\n",
      "18-05-2019  13:52    <DIR>          sreemanth\n",
      "11-07-2019  20:24    <DIR>          Test folder\n",
      "15-05-2019  12:21               156 test.py\n",
      "15-05-2019  12:24                30 test2.py\n",
      "09-05-2019  16:23    <DIR>          Untitled Folder\n",
      "08-05-2019  14:07    <DIR>          Videos\n",
      "26-09-2018  15:56    <DIR>          workspace\n",
      "              16 File(s)         64,121 bytes\n",
      "              28 Dir(s)  71,823,798,272 bytes free\n"
     ]
    }
   ],
   "source": [
    "ls"
   ]
  },
  {
   "cell_type": "markdown",
   "metadata": {},
   "source": [
    "### Creating Multiple directories"
   ]
  },
  {
   "cell_type": "code",
   "execution_count": 35,
   "metadata": {},
   "outputs": [],
   "source": [
    "import os\n",
    "os.makedirs('2019/July/11')"
   ]
  },
  {
   "cell_type": "code",
   "execution_count": 36,
   "metadata": {},
   "outputs": [
    {
     "name": "stdout",
     "output_type": "stream",
     "text": [
      " Volume in drive C has no label.\n",
      " Volume Serial Number is F812-12DD\n",
      "\n",
      " Directory of C:\\Users\\201\n",
      "\n",
      "11-07-2019  20:38    <DIR>          .\n",
      "11-07-2019  20:38    <DIR>          ..\n",
      "08-05-2019  11:00    <DIR>          .anaconda\n",
      "14-03-2017  11:00               145 .appletviewer\n",
      "21-05-2019  15:10               606 .bash_history\n",
      "02-11-2017  15:45                 0 .cdtclient\n",
      "09-05-2019  15:54    <DIR>          .conda\n",
      "08-07-2019  14:55                43 .condarc\n",
      "21-05-2019  11:57                61 .gitconfig\n",
      "11-07-2019  14:53    <DIR>          .ipynb_checkpoints\n",
      "08-05-2019  11:01    <DIR>          .ipython\n",
      "09-05-2019  11:42    <DIR>          .jupyter\n",
      "13-12-2016  10:32    <DIR>          .oracle_jre_usage\n",
      "13-05-2019  14:38    <DIR>          .spyder-py3\n",
      "11-07-2019  20:38    <DIR>          2019\n",
      "27-06-2019  22:33             5,241 27 june 2019.ipynb\n",
      "09-05-2019  09:54    <DIR>          Anaconda3\n",
      "10-07-2019  22:40             6,999 Assignment.ipynb\n",
      "08-05-2019  14:07    <DIR>          Contacts\n",
      "10-07-2019  22:17            15,192 day9(10-07-19).ipynb\n",
      "06-07-2019  21:47    <DIR>          Desktop\n",
      "12-05-2019  12:18    <DIR>          Documents\n",
      "10-07-2019  22:39    <DIR>          Downloads\n",
      "08-05-2019  14:07    <DIR>          Favorites\n",
      "11-07-2019  15:32                12 file1.txt\n",
      "11-07-2019  15:41               182 file2.txt\n",
      "11-07-2019  15:57                 0 File3\n",
      "06-04-2017  11:06    <DIR>          kiran\n",
      "08-05-2019  14:07    <DIR>          Links\n",
      "08-05-2019  14:07    <DIR>          Music\n",
      "08-05-2019  14:07    <DIR>          Pictures\n",
      "13-05-2019  14:32    <DIR>          pp\n",
      "08-07-2019  21:05             9,970 python day7(8th july).ipynb\n",
      "09-07-2019  21:29             9,141 python day8(09-07-2019).ipynb\n",
      "11-07-2019  20:35            20,561 Python day9(11-07-2019).ipynb\n",
      "08-05-2019  14:07    <DIR>          Saved Games\n",
      "08-05-2019  14:07    <DIR>          Searches\n",
      "11-07-2019  20:23    <DIR>          SingleDirectory\n",
      "18-05-2019  13:52    <DIR>          sreemanth\n",
      "11-07-2019  20:24    <DIR>          Test folder\n",
      "15-05-2019  12:21               156 test.py\n",
      "15-05-2019  12:24                30 test2.py\n",
      "09-05-2019  16:23    <DIR>          Untitled Folder\n",
      "08-05-2019  14:07    <DIR>          Videos\n",
      "26-09-2018  15:56    <DIR>          workspace\n",
      "              16 File(s)         68,339 bytes\n",
      "              29 Dir(s)  71,823,663,104 bytes free\n"
     ]
    }
   ],
   "source": [
    "ls"
   ]
  },
  {
   "cell_type": "markdown",
   "metadata": {},
   "source": [
    "### Filename Pattern Matching"
   ]
  },
  {
   "cell_type": "code",
   "execution_count": 37,
   "metadata": {},
   "outputs": [
    {
     "name": "stdout",
     "output_type": "stream",
     "text": [
      " Volume in drive C has no label.\n",
      " Volume Serial Number is F812-12DD\n",
      "\n",
      " Directory of C:\\Users\\201\n",
      "\n",
      "11-07-2019  20:38    <DIR>          .\n",
      "11-07-2019  20:38    <DIR>          ..\n",
      "08-05-2019  11:00    <DIR>          .anaconda\n",
      "14-03-2017  11:00               145 .appletviewer\n",
      "21-05-2019  15:10               606 .bash_history\n",
      "02-11-2017  15:45                 0 .cdtclient\n",
      "09-05-2019  15:54    <DIR>          .conda\n",
      "08-07-2019  14:55                43 .condarc\n",
      "21-05-2019  11:57                61 .gitconfig\n",
      "11-07-2019  14:53    <DIR>          .ipynb_checkpoints\n",
      "08-05-2019  11:01    <DIR>          .ipython\n",
      "09-05-2019  11:42    <DIR>          .jupyter\n",
      "13-12-2016  10:32    <DIR>          .oracle_jre_usage\n",
      "13-05-2019  14:38    <DIR>          .spyder-py3\n",
      "11-07-2019  20:38    <DIR>          2019\n",
      "27-06-2019  22:33             5,241 27 june 2019.ipynb\n",
      "09-05-2019  09:54    <DIR>          Anaconda3\n",
      "10-07-2019  22:40             6,999 Assignment.ipynb\n",
      "08-05-2019  14:07    <DIR>          Contacts\n",
      "10-07-2019  22:17            15,192 day9(10-07-19).ipynb\n",
      "06-07-2019  21:47    <DIR>          Desktop\n",
      "12-05-2019  12:18    <DIR>          Documents\n",
      "10-07-2019  22:39    <DIR>          Downloads\n",
      "08-05-2019  14:07    <DIR>          Favorites\n",
      "11-07-2019  15:32                12 file1.txt\n",
      "11-07-2019  15:41               182 file2.txt\n",
      "11-07-2019  15:57                 0 File3\n",
      "06-04-2017  11:06    <DIR>          kiran\n",
      "08-05-2019  14:07    <DIR>          Links\n",
      "08-05-2019  14:07    <DIR>          Music\n",
      "08-05-2019  14:07    <DIR>          Pictures\n",
      "13-05-2019  14:32    <DIR>          pp\n",
      "08-07-2019  21:05             9,970 python day7(8th july).ipynb\n",
      "09-07-2019  21:29             9,141 python day8(09-07-2019).ipynb\n",
      "11-07-2019  20:38            23,853 Python day9(11-07-2019).ipynb\n",
      "08-05-2019  14:07    <DIR>          Saved Games\n",
      "08-05-2019  14:07    <DIR>          Searches\n",
      "11-07-2019  20:23    <DIR>          SingleDirectory\n",
      "18-05-2019  13:52    <DIR>          sreemanth\n",
      "11-07-2019  20:24    <DIR>          Test folder\n",
      "15-05-2019  12:21               156 test.py\n",
      "15-05-2019  12:24                30 test2.py\n",
      "09-05-2019  16:23    <DIR>          Untitled Folder\n",
      "08-05-2019  14:07    <DIR>          Videos\n",
      "26-09-2018  15:56    <DIR>          workspace\n",
      "              16 File(s)         71,631 bytes\n",
      "              29 Dir(s)  71,823,593,472 bytes free\n"
     ]
    }
   ],
   "source": [
    "ls"
   ]
  },
  {
   "cell_type": "code",
   "execution_count": 40,
   "metadata": {},
   "outputs": [
    {
     "ename": "FileNotFoundError",
     "evalue": "[WinError 3] The system cannot find the path specified: '201/'",
     "output_type": "error",
     "traceback": [
      "\u001b[1;31m---------------------------------------------------------------------------\u001b[0m",
      "\u001b[1;31mFileNotFoundError\u001b[0m                         Traceback (most recent call last)",
      "\u001b[1;32m<ipython-input-40-6940f78bf9dd>\u001b[0m in \u001b[0;36m<module>\u001b[1;34m\u001b[0m\n\u001b[0;32m      1\u001b[0m \u001b[1;32mimport\u001b[0m \u001b[0mos\u001b[0m\u001b[1;33m\u001b[0m\u001b[1;33m\u001b[0m\u001b[0m\n\u001b[0;32m      2\u001b[0m \u001b[0mdirPath\u001b[0m\u001b[1;33m=\u001b[0m\u001b[1;34m'201/'\u001b[0m\u001b[1;33m\u001b[0m\u001b[1;33m\u001b[0m\u001b[0m\n\u001b[1;32m----> 3\u001b[1;33m \u001b[1;32mfor\u001b[0m \u001b[0mf_name\u001b[0m \u001b[1;32min\u001b[0m \u001b[0mos\u001b[0m\u001b[1;33m.\u001b[0m\u001b[0mlistdir\u001b[0m\u001b[1;33m(\u001b[0m\u001b[0mdirPath\u001b[0m\u001b[1;33m)\u001b[0m\u001b[1;33m:\u001b[0m\u001b[1;33m\u001b[0m\u001b[1;33m\u001b[0m\u001b[0m\n\u001b[0m\u001b[0;32m      4\u001b[0m     \u001b[1;32mif\u001b[0m \u001b[0mf_name\u001b[0m\u001b[1;33m.\u001b[0m\u001b[0mendswith\u001b[0m\u001b[1;33m(\u001b[0m\u001b[1;34m'.ipynb'\u001b[0m\u001b[1;33m)\u001b[0m\u001b[1;33m:\u001b[0m\u001b[1;33m\u001b[0m\u001b[1;33m\u001b[0m\u001b[0m\n\u001b[0;32m      5\u001b[0m         \u001b[0mprint\u001b[0m\u001b[1;33m(\u001b[0m\u001b[0mf_name\u001b[0m\u001b[1;33m)\u001b[0m\u001b[1;33m\u001b[0m\u001b[1;33m\u001b[0m\u001b[0m\n",
      "\u001b[1;31mFileNotFoundError\u001b[0m: [WinError 3] The system cannot find the path specified: '201/'"
     ]
    }
   ],
   "source": [
    "import os\n",
    "dirPath='201/'\n",
    "for f_name in os.listdir(dirPath):\n",
    "    if f_name.endswith('.ipynb'):\n",
    "        print(f_name)"
   ]
  },
  {
   "cell_type": "markdown",
   "metadata": {},
   "source": [
    "### Regular Expressions"
   ]
  },
  {
   "cell_type": "code",
   "execution_count": null,
   "metadata": {},
   "outputs": [],
   "source": []
  }
 ],
 "metadata": {
  "kernelspec": {
   "display_name": "Python 3",
   "language": "python",
   "name": "python3"
  },
  "language_info": {
   "codemirror_mode": {
    "name": "ipython",
    "version": 3
   },
   "file_extension": ".py",
   "mimetype": "text/x-python",
   "name": "python",
   "nbconvert_exporter": "python",
   "pygments_lexer": "ipython3",
   "version": "3.7.3"
  }
 },
 "nbformat": 4,
 "nbformat_minor": 2
}
