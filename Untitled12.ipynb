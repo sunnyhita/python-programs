{
 "cells": [
  {
   "cell_type": "code",
   "execution_count": 6,
   "metadata": {},
   "outputs": [
    {
     "name": "stdout",
     "output_type": "stream",
     "text": [
      "T "
     ]
    }
   ],
   "source": [
    "def printUpper(x):\n",
    "    for i in range(len(x)):\n",
    "        if ord(x[i]) >= 65 and ord(x[i]) <=90:\n",
    "            print(x[i],end = \" \")\n",
    "    return \n",
    "printUpper(\"pyThon\")"
   ]
  },
  {
   "cell_type": "code",
   "execution_count": 7,
   "metadata": {},
   "outputs": [
    {
     "ename": "SyntaxError",
     "evalue": "invalid syntax (<ipython-input-7-14fba3289de1>, line 1)",
     "output_type": "error",
     "traceback": [
      "\u001b[1;36m  File \u001b[1;32m\"<ipython-input-7-14fba3289de1>\"\u001b[1;36m, line \u001b[1;32m1\u001b[0m\n\u001b[1;33m    def findCount(str)\u001b[0m\n\u001b[1;37m                      ^\u001b[0m\n\u001b[1;31mSyntaxError\u001b[0m\u001b[1;31m:\u001b[0m invalid syntax\n"
     ]
    }
   ],
   "source": [
    "def findCount(str)"
   ]
  },
  {
   "cell_type": "code",
   "execution_count": 8,
   "metadata": {},
   "outputs": [
    {
     "ename": "SyntaxError",
     "evalue": "invalid syntax (<ipython-input-8-b25ef4c7958c>, line 3)",
     "output_type": "error",
     "traceback": [
      "\u001b[1;36m  File \u001b[1;32m\"<ipython-input-8-b25ef4c7958c>\"\u001b[1;36m, line \u001b[1;32m3\u001b[0m\n\u001b[1;33m    for a range(2,n+1):\u001b[0m\n\u001b[1;37m              ^\u001b[0m\n\u001b[1;31mSyntaxError\u001b[0m\u001b[1;31m:\u001b[0m invalid syntax\n"
     ]
    }
   ],
   "source": [
    "def primecount(n):\n",
    "    cnt = 0\n",
    "    for a range(2,n+1):\n",
    "        k = 0\n",
    "        for i in range(2,a//2+1):\n",
    "            if a % i == 0:\n",
    "                k = k + 1\n",
    "            if(k<=0):\n",
    "                cnt = cnt + 1\n",
    "    return cnt\n",
    "primecount(10)f"
   ]
  },
  {
   "cell_type": "code",
   "execution_count": 9,
   "metadata": {},
   "outputs": [
    {
     "ename": "SyntaxError",
     "evalue": "invalid syntax (<ipython-input-9-19891c97b74b>, line 9)",
     "output_type": "error",
     "traceback": [
      "\u001b[1;36m  File \u001b[1;32m\"<ipython-input-9-19891c97b74b>\"\u001b[1;36m, line \u001b[1;32m9\u001b[0m\n\u001b[1;33m    if\u001b[0m\n\u001b[1;37m      ^\u001b[0m\n\u001b[1;31mSyntaxError\u001b[0m\u001b[1;31m:\u001b[0m invalid syntax\n"
     ]
    }
   ],
   "source": [
    "def findCount(str):\n",
    "    cntUpper = 0\n",
    "    cntLower = 0\n",
    "    for x in range(len(str)):\n",
    "retue        if ord(str[x]) >=65 and ord(str[x]) <=90:\n",
    "            cntUpper = cntUpper + 1\n",
    "        elif ord(str[x]) >= 97 and ord(str[x]) <=122:\n",
    "            cntLower = cntLower + 1\n",
    "            if\n",
    "    return\n",
    "findCount('pyThon')\n",
    "findCount('pYThon')"
   ]
  },
  {
   "cell_type": "code",
   "execution_count": 10,
   "metadata": {},
   "outputs": [
    {
     "ename": "SyntaxError",
     "evalue": "keyword can't be an expression (<ipython-input-10-49f64b43a49e>, line 4)",
     "output_type": "error",
     "traceback": [
      "\u001b[1;36m  File \u001b[1;32m\"<ipython-input-10-49f64b43a49e>\"\u001b[1;36m, line \u001b[1;32m4\u001b[0m\n\u001b[1;33m    print(str[x].end=\" \")\u001b[0m\n\u001b[1;37m         ^\u001b[0m\n\u001b[1;31mSyntaxError\u001b[0m\u001b[1;31m:\u001b[0m keyword can't be an expression\n"
     ]
    }
   ],
   "source": [
    "def extraDigits(str):\n",
    "    for x in range(len(str)):\n",
    "        if ord(str[x]) >= 48 and ord(str[x]) <=57:\n",
    "            print(str[x].end=\" \")\n",
    "    return\n",
    "    "
   ]
  },
  {
   "cell_type": "code",
   "execution_count": 11,
   "metadata": {},
   "outputs": [
    {
     "ename": "SyntaxError",
     "evalue": "invalid syntax (<ipython-input-11-648e7b5a0fc6>, line 6)",
     "output_type": "error",
     "traceback": [
      "\u001b[1;36m  File \u001b[1;32m\"<ipython-input-11-648e7b5a0fc6>\"\u001b[1;36m, line \u001b[1;32m6\u001b[0m\n\u001b[1;33m    sum = sum + (ord(str[x]))-48)\u001b[0m\n\u001b[1;37m                                ^\u001b[0m\n\u001b[1;31mSyntaxError\u001b[0m\u001b[1;31m:\u001b[0m invalid syntax\n"
     ]
    }
   ],
   "source": [
    "def sumofEvenDigits(str):\n",
    "    sum = 0\n",
    "    for x in range (len(str)):\n",
    "        if ord(str[x]) >=48 and ord(str[x]) <=57:\n",
    "            if (ord(str[x])-48) % 2 == 0:\n",
    "                sum = sum + (ord(str[x]))-48)\n",
    "            return    "
   ]
  },
  {
   "cell_type": "code",
   "execution_count": null,
   "metadata": {},
   "outputs": [],
   "source": [
    "def  "
   ]
  }
 ],
 "metadata": {
  "kernelspec": {
   "display_name": "Python 3",
   "language": "python",
   "name": "python3"
  },
  "language_info": {
   "codemirror_mode": {
    "name": "ipython",
    "version": 3
   },
   "file_extension": ".py",
   "mimetype": "text/x-python",
   "name": "python",
   "nbconvert_exporter": "python",
   "pygments_lexer": "ipython3",
   "version": "3.7.3"
  }
 },
 "nbformat": 4,
 "nbformat_minor": 2
}
